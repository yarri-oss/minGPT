{
  "cells": [
    {
      "cell_type": "markdown",
      "metadata": {
        "id": "tkOvMZzpfi1V"
      },
      "source": [
        "## Train GPT on addition\n",
        "\n",
        "Train a GPT model on a dedicated addition dataset to see if a Transformer can learn to add."
      ]
    },
    {
      "cell_type": "code",
      "source": [
        "!git clone https://github.com/yarri-oss/minGPT.git"
      ],
      "metadata": {
        "id": "tzc__yIXfr58",
        "outputId": "73a393ac-57ea-4f0b-ca06-4926fcb06c13",
        "colab": {
          "base_uri": "https://localhost:8080/"
        }
      },
      "execution_count": 3,
      "outputs": [
        {
          "output_type": "stream",
          "name": "stdout",
          "text": [
            "Cloning into 'minGPT'...\n",
            "remote: Enumerating objects: 175, done.\u001b[K\n",
            "remote: Total 175 (delta 0), reused 0 (delta 0), pack-reused 175\u001b[K\n",
            "Receiving objects: 100% (175/175), 1.37 MiB | 8.66 MiB/s, done.\n",
            "Resolving deltas: 100% (101/101), done.\n"
          ]
        }
      ]
    },
    {
      "cell_type": "code",
      "execution_count": 4,
      "metadata": {
        "id": "B4n-43_wfi1Z"
      },
      "outputs": [],
      "source": [
        "# set up logging\n",
        "import logging\n",
        "logging.basicConfig(\n",
        "        format=\"%(asctime)s - %(levelname)s - %(name)s -   %(message)s\",\n",
        "        datefmt=\"%m/%d/%Y %H:%M:%S\",\n",
        "        level=logging.INFO,\n",
        ")"
      ]
    },
    {
      "cell_type": "code",
      "execution_count": 7,
      "metadata": {
        "id": "5npu1Y2Rfi1b"
      },
      "outputs": [],
      "source": [
        "# make deterministic\n",
        "from minGPT.mingpt.utils import set_seed\n",
        "set_seed(42)"
      ]
    },
    {
      "cell_type": "code",
      "execution_count": 8,
      "metadata": {
        "id": "UP9XMCQ6fi1c"
      },
      "outputs": [],
      "source": [
        "import numpy as np\n",
        "import torch\n",
        "import torch.nn as nn\n",
        "from torch.nn import functional as F"
      ]
    },
    {
      "cell_type": "code",
      "execution_count": 9,
      "metadata": {
        "id": "NqTnKfKbfi1d"
      },
      "outputs": [],
      "source": [
        "from torch.utils.data import Dataset\n",
        "\n",
        "class AdditionDataset(Dataset):\n",
        "    \"\"\"\n",
        "    Returns addition problems of up to some number of digits in the inputs. Recall\n",
        "    that all GPT cares about are sequences of integers, and completing them according to\n",
        "    patterns in the data. Therefore, we have to somehow encode addition problems\n",
        "    as a sequence of integers.\n",
        "    \n",
        "    The sum of two n-digit numbers gives a third up to (n+1)-digit number. So our\n",
        "    encoding will simply be the n-digit first number, n-digit second number, \n",
        "    and (n+1)-digit result, all simply concatenated together. Because each addition\n",
        "    problem is so structured, there is no need to bother the model with encoding\n",
        "    +, =, or other tokens. Each possible sequence has the same length, and simply\n",
        "    contains the raw digits of the addition problem.\n",
        "    \n",
        "    As a few examples, the 2-digit problems:\n",
        "    - 85 + 50 = 135 becomes the sequence [8, 5, 5, 0, 1, 3, 5]\n",
        "    - 6 + 39 = 45 becomes the sequence [0, 6, 3, 9, 0, 4, 5]\n",
        "    etc.\n",
        "    \n",
        "    We will also only train GPT on the final (n+1)-digits because the first\n",
        "    two n-digits are always assumed to be given. So when we give GPT an exam later,\n",
        "    we will e.g. feed it the sequence [0, 6, 3, 9], which encodes that we'd like\n",
        "    to add 6 + 39, and hope that the model completes the integer sequence with [0, 4, 5]\n",
        "    in 3 sequential steps.\n",
        "    \n",
        "    fun exercise: does it help if the result is asked to be produced in reverse order?\n",
        "    \"\"\"\n",
        "\n",
        "    def __init__(self, ndigit, split):\n",
        "        self.split = split # train/test\n",
        "        self.ndigit = ndigit\n",
        "        self.vocab_size = 10 # 10 possible digits 0..9\n",
        "        # +1 due to potential carry overflow, but then -1 because very last digit doesn't plug back\n",
        "        self.block_size = ndigit + ndigit + ndigit + 1 - 1\n",
        "        \n",
        "        # split up all addition problems into either training data or test data\n",
        "        num = (10**self.ndigit)**2 # total number of possible combinations\n",
        "        r = np.random.RandomState(1337) # make deterministic\n",
        "        perm = r.permutation(num)\n",
        "        num_test = min(int(num*0.2), 1000) # 20% of the whole dataset, or only up to 1000\n",
        "        self.ixes = perm[:num_test] if split == 'test' else perm[num_test:]\n",
        "\n",
        "    def __len__(self):\n",
        "        return self.ixes.size\n",
        "\n",
        "    def __getitem__(self, idx):\n",
        "        # given a problem index idx, first recover the associated a + b\n",
        "        idx = self.ixes[idx]\n",
        "        nd = 10**self.ndigit\n",
        "        a = idx // nd\n",
        "        b = idx %  nd\n",
        "        c = a + b\n",
        "        render = f'%0{self.ndigit}d%0{self.ndigit}d%0{self.ndigit+1}d' % (a,b,c) # e.g. 03+25=28 becomes \"0325028\" \n",
        "        dix = [int(s) for s in render] # convert each character to its token index\n",
        "        # x will be input to GPT and y will be the associated expected outputs\n",
        "        x = torch.tensor(dix[:-1], dtype=torch.long)\n",
        "        y = torch.tensor(dix[1:], dtype=torch.long) # predict the next token in the sequence\n",
        "        y[:self.ndigit*2-1] = -100 # we will only train in the output locations. -100 will mask loss to zero\n",
        "        return x, y\n"
      ]
    },
    {
      "cell_type": "code",
      "execution_count": 10,
      "metadata": {
        "id": "rhI0UC5Yfi1e"
      },
      "outputs": [],
      "source": [
        "# create a dataset for e.g. 2-digit addition\n",
        "ndigit = 2\n",
        "train_dataset = AdditionDataset(ndigit=ndigit, split='train')\n",
        "test_dataset = AdditionDataset(ndigit=ndigit, split='test')"
      ]
    },
    {
      "cell_type": "code",
      "execution_count": 11,
      "metadata": {
        "id": "CocH1_kCfi1f",
        "outputId": "66dbe582-0bc2-438a-f236-f1bf7f9470cf",
        "colab": {
          "base_uri": "https://localhost:8080/"
        }
      },
      "outputs": [
        {
          "output_type": "execute_result",
          "data": {
            "text/plain": [
              "(tensor([4, 7, 1, 7, 0, 6]), tensor([-100, -100, -100,    0,    6,    4]))"
            ]
          },
          "metadata": {},
          "execution_count": 11
        }
      ],
      "source": [
        "train_dataset[0] # sample a training instance just to see what one raw example looks like"
      ]
    },
    {
      "cell_type": "code",
      "execution_count": 12,
      "metadata": {
        "id": "qrbeBI_Kfi1h",
        "outputId": "75029843-601d-4aaf-c603-f0e64db0d82d",
        "colab": {
          "base_uri": "https://localhost:8080/"
        }
      },
      "outputs": [
        {
          "output_type": "stream",
          "name": "stderr",
          "text": [
            "12/09/2021 23:25:45 - INFO - minGPT.mingpt.model -   number of parameters: 4.001280e+05\n"
          ]
        }
      ],
      "source": [
        "from minGPT.mingpt.model import GPT, GPTConfig, GPT1Config\n",
        "\n",
        "# initialize a baby GPT model\n",
        "mconf = GPTConfig(train_dataset.vocab_size, train_dataset.block_size, \n",
        "                  n_layer=2, n_head=4, n_embd=128)\n",
        "model = GPT(mconf)"
      ]
    },
    {
      "cell_type": "code",
      "execution_count": 13,
      "metadata": {
        "id": "Al5S7M76fi1i",
        "outputId": "4b5d3639-06fd-4837-b82e-d6444c1173b0",
        "colab": {
          "base_uri": "https://localhost:8080/"
        }
      },
      "outputs": [
        {
          "output_type": "stream",
          "name": "stderr",
          "text": [
            "/usr/local/lib/python3.7/dist-packages/torch/utils/data/dataloader.py:481: UserWarning: This DataLoader will create 4 worker processes in total. Our suggested max number of worker in current system is 2, which is smaller than what this DataLoader is going to create. Please be aware that excessive worker creation might get DataLoader running slow or even freeze, lower the worker number to avoid potential slowness/freeze if necessary.\n",
            "  cpuset_checked))\n",
            "epoch 1 iter 17: train loss 1.75818. lr 5.994512e-04: 100%|██████████| 18/18 [00:04<00:00,  3.88it/s]\n",
            "12/09/2021 23:26:27 - INFO - minGPT.mingpt.trainer -   test loss: 1.694040\n",
            "epoch 2 iter 17: train loss 1.53680. lr 5.977197e-04: 100%|██████████| 18/18 [00:04<00:00,  3.86it/s]\n",
            "12/09/2021 23:26:32 - INFO - minGPT.mingpt.trainer -   test loss: 1.469863\n",
            "epoch 3 iter 17: train loss 1.34297. lr 5.948114e-04: 100%|██████████| 18/18 [00:04<00:00,  3.87it/s]\n",
            "12/09/2021 23:26:37 - INFO - minGPT.mingpt.trainer -   test loss: 1.267886\n",
            "epoch 4 iter 17: train loss 1.20116. lr 5.907379e-04: 100%|██████████| 18/18 [00:04<00:00,  3.87it/s]\n",
            "12/09/2021 23:26:42 - INFO - minGPT.mingpt.trainer -   test loss: 1.166407\n",
            "epoch 5 iter 17: train loss 1.13300. lr 5.855153e-04: 100%|██████████| 18/18 [00:04<00:00,  3.89it/s]\n",
            "12/09/2021 23:26:47 - INFO - minGPT.mingpt.trainer -   test loss: 1.092437\n",
            "epoch 6 iter 17: train loss 1.11354. lr 5.791641e-04: 100%|██████████| 18/18 [00:04<00:00,  3.92it/s]\n",
            "12/09/2021 23:26:53 - INFO - minGPT.mingpt.trainer -   test loss: 1.047776\n",
            "epoch 7 iter 17: train loss 1.08020. lr 5.717095e-04: 100%|██████████| 18/18 [00:04<00:00,  3.89it/s]\n",
            "12/09/2021 23:26:58 - INFO - minGPT.mingpt.trainer -   test loss: 1.032547\n",
            "epoch 8 iter 17: train loss 1.07428. lr 5.631810e-04: 100%|██████████| 18/18 [00:04<00:00,  3.89it/s]\n",
            "12/09/2021 23:27:03 - INFO - minGPT.mingpt.trainer -   test loss: 0.987198\n",
            "epoch 9 iter 17: train loss 0.90539. lr 5.536122e-04: 100%|██████████| 18/18 [00:04<00:00,  3.88it/s]\n",
            "12/09/2021 23:27:08 - INFO - minGPT.mingpt.trainer -   test loss: 0.749719\n",
            "epoch 10 iter 17: train loss 0.59427. lr 5.430411e-04: 100%|██████████| 18/18 [00:04<00:00,  3.88it/s]\n",
            "12/09/2021 23:27:13 - INFO - minGPT.mingpt.trainer -   test loss: 0.440556\n",
            "epoch 11 iter 17: train loss 0.52090. lr 5.315093e-04: 100%|██████████| 18/18 [00:04<00:00,  3.92it/s]\n",
            "12/09/2021 23:27:18 - INFO - minGPT.mingpt.trainer -   test loss: 0.353156\n",
            "epoch 12 iter 17: train loss 0.45779. lr 5.190624e-04: 100%|██████████| 18/18 [00:04<00:00,  3.96it/s]\n",
            "12/09/2021 23:27:23 - INFO - minGPT.mingpt.trainer -   test loss: 0.282674\n",
            "epoch 13 iter 17: train loss 0.37936. lr 5.057497e-04: 100%|██████████| 18/18 [00:04<00:00,  3.89it/s]\n",
            "12/09/2021 23:27:29 - INFO - minGPT.mingpt.trainer -   test loss: 0.232108\n",
            "epoch 14 iter 17: train loss 0.33692. lr 4.916238e-04: 100%|██████████| 18/18 [00:04<00:00,  3.98it/s]\n",
            "12/09/2021 23:27:34 - INFO - minGPT.mingpt.trainer -   test loss: 0.189806\n",
            "epoch 15 iter 17: train loss 0.28642. lr 4.767405e-04: 100%|██████████| 18/18 [00:04<00:00,  3.91it/s]\n",
            "12/09/2021 23:27:39 - INFO - minGPT.mingpt.trainer -   test loss: 0.163857\n",
            "epoch 16 iter 17: train loss 0.27108. lr 4.611586e-04: 100%|██████████| 18/18 [00:04<00:00,  4.16it/s]\n",
            "12/09/2021 23:27:43 - INFO - minGPT.mingpt.trainer -   test loss: 0.130344\n",
            "epoch 17 iter 17: train loss 0.26941. lr 4.449397e-04: 100%|██████████| 18/18 [00:04<00:00,  4.16it/s]\n",
            "12/09/2021 23:27:48 - INFO - minGPT.mingpt.trainer -   test loss: 0.114893\n",
            "epoch 18 iter 17: train loss 0.20868. lr 4.281479e-04: 100%|██████████| 18/18 [00:04<00:00,  4.01it/s]\n",
            "12/09/2021 23:27:53 - INFO - minGPT.mingpt.trainer -   test loss: 0.091976\n",
            "epoch 19 iter 17: train loss 0.19105. lr 4.108497e-04: 100%|██████████| 18/18 [00:04<00:00,  4.03it/s]\n",
            "12/09/2021 23:27:58 - INFO - minGPT.mingpt.trainer -   test loss: 0.066066\n",
            "epoch 20 iter 17: train loss 0.17265. lr 3.931133e-04: 100%|██████████| 18/18 [00:04<00:00,  4.03it/s]\n",
            "12/09/2021 23:28:03 - INFO - minGPT.mingpt.trainer -   test loss: 0.059073\n",
            "epoch 21 iter 17: train loss 0.18192. lr 3.750088e-04: 100%|██████████| 18/18 [00:04<00:00,  4.10it/s]\n",
            "12/09/2021 23:28:08 - INFO - minGPT.mingpt.trainer -   test loss: 0.044888\n",
            "epoch 22 iter 17: train loss 0.13533. lr 3.566079e-04: 100%|██████████| 18/18 [00:04<00:00,  4.11it/s]\n",
            "12/09/2021 23:28:13 - INFO - minGPT.mingpt.trainer -   test loss: 0.035911\n",
            "epoch 23 iter 17: train loss 0.14291. lr 3.379832e-04: 100%|██████████| 18/18 [00:04<00:00,  3.87it/s]\n",
            "12/09/2021 23:28:18 - INFO - minGPT.mingpt.trainer -   test loss: 0.027659\n",
            "epoch 24 iter 17: train loss 0.12879. lr 3.192084e-04: 100%|██████████| 18/18 [00:04<00:00,  4.05it/s]\n",
            "12/09/2021 23:28:22 - INFO - minGPT.mingpt.trainer -   test loss: 0.026422\n",
            "epoch 25 iter 17: train loss 0.13536. lr 3.003577e-04: 100%|██████████| 18/18 [00:04<00:00,  4.07it/s]\n",
            "12/09/2021 23:28:27 - INFO - minGPT.mingpt.trainer -   test loss: 0.021233\n",
            "epoch 26 iter 17: train loss 0.12486. lr 2.815056e-04: 100%|██████████| 18/18 [00:04<00:00,  4.04it/s]\n",
            "12/09/2021 23:28:32 - INFO - minGPT.mingpt.trainer -   test loss: 0.017230\n",
            "epoch 27 iter 17: train loss 0.10424. lr 2.627266e-04: 100%|██████████| 18/18 [00:04<00:00,  4.10it/s]\n",
            "12/09/2021 23:28:37 - INFO - minGPT.mingpt.trainer -   test loss: 0.016872\n",
            "epoch 28 iter 17: train loss 0.09470. lr 2.440948e-04: 100%|██████████| 18/18 [00:04<00:00,  4.08it/s]\n",
            "12/09/2021 23:28:42 - INFO - minGPT.mingpt.trainer -   test loss: 0.013915\n",
            "epoch 29 iter 17: train loss 0.10044. lr 2.256841e-04: 100%|██████████| 18/18 [00:04<00:00,  4.03it/s]\n",
            "12/09/2021 23:28:47 - INFO - minGPT.mingpt.trainer -   test loss: 0.012817\n",
            "epoch 30 iter 17: train loss 0.08294. lr 2.075671e-04: 100%|██████████| 18/18 [00:04<00:00,  3.99it/s]\n",
            "12/09/2021 23:28:52 - INFO - minGPT.mingpt.trainer -   test loss: 0.011622\n",
            "epoch 31 iter 17: train loss 0.07169. lr 1.898155e-04: 100%|██████████| 18/18 [00:04<00:00,  4.07it/s]\n",
            "12/09/2021 23:28:56 - INFO - minGPT.mingpt.trainer -   test loss: 0.010594\n",
            "epoch 32 iter 17: train loss 0.07819. lr 1.724993e-04: 100%|██████████| 18/18 [00:04<00:00,  4.06it/s]\n",
            "12/09/2021 23:29:01 - INFO - minGPT.mingpt.trainer -   test loss: 0.009634\n",
            "epoch 33 iter 17: train loss 0.05919. lr 1.556871e-04: 100%|██████████| 18/18 [00:04<00:00,  4.04it/s]\n",
            "12/09/2021 23:29:06 - INFO - minGPT.mingpt.trainer -   test loss: 0.008829\n",
            "epoch 34 iter 17: train loss 0.07054. lr 1.394453e-04: 100%|██████████| 18/18 [00:04<00:00,  4.00it/s]\n",
            "12/09/2021 23:29:11 - INFO - minGPT.mingpt.trainer -   test loss: 0.006893\n",
            "epoch 35 iter 17: train loss 0.05680. lr 1.238381e-04: 100%|██████████| 18/18 [00:04<00:00,  4.10it/s]\n",
            "12/09/2021 23:29:16 - INFO - minGPT.mingpt.trainer -   test loss: 0.007136\n",
            "epoch 36 iter 17: train loss 0.07050. lr 1.089272e-04: 100%|██████████| 18/18 [00:04<00:00,  4.06it/s]\n",
            "12/09/2021 23:29:21 - INFO - minGPT.mingpt.trainer -   test loss: 0.006039\n",
            "epoch 37 iter 17: train loss 0.05708. lr 9.477150e-05: 100%|██████████| 18/18 [00:04<00:00,  4.11it/s]\n",
            "12/09/2021 23:29:26 - INFO - minGPT.mingpt.trainer -   test loss: 0.006537\n",
            "epoch 38 iter 17: train loss 0.05688. lr 8.142699e-05: 100%|██████████| 18/18 [00:04<00:00,  4.12it/s]\n",
            "12/09/2021 23:29:30 - INFO - minGPT.mingpt.trainer -   test loss: 0.005799\n",
            "epoch 39 iter 17: train loss 0.07619. lr 6.894639e-05: 100%|██████████| 18/18 [00:04<00:00,  4.07it/s]\n",
            "12/09/2021 23:29:35 - INFO - minGPT.mingpt.trainer -   test loss: 0.005678\n",
            "epoch 40 iter 17: train loss 0.07162. lr 6.000000e-05: 100%|██████████| 18/18 [00:04<00:00,  4.11it/s]\n",
            "12/09/2021 23:29:40 - INFO - minGPT.mingpt.trainer -   test loss: 0.005109\n",
            "epoch 41 iter 17: train loss 0.03955. lr 6.000000e-05: 100%|██████████| 18/18 [00:04<00:00,  4.13it/s]\n",
            "12/09/2021 23:29:45 - INFO - minGPT.mingpt.trainer -   test loss: 0.004931\n",
            "epoch 42 iter 17: train loss 0.04904. lr 6.000000e-05: 100%|██████████| 18/18 [00:04<00:00,  4.17it/s]\n",
            "12/09/2021 23:29:50 - INFO - minGPT.mingpt.trainer -   test loss: 0.004821\n",
            "epoch 43 iter 17: train loss 0.05063. lr 6.000000e-05: 100%|██████████| 18/18 [00:04<00:00,  4.13it/s]\n",
            "12/09/2021 23:29:54 - INFO - minGPT.mingpt.trainer -   test loss: 0.004553\n",
            "epoch 44 iter 17: train loss 0.06096. lr 6.000000e-05: 100%|██████████| 18/18 [00:04<00:00,  4.11it/s]\n",
            "12/09/2021 23:29:59 - INFO - minGPT.mingpt.trainer -   test loss: 0.004565\n",
            "epoch 45 iter 17: train loss 0.06528. lr 6.000000e-05: 100%|██████████| 18/18 [00:04<00:00,  4.14it/s]\n",
            "12/09/2021 23:30:04 - INFO - minGPT.mingpt.trainer -   test loss: 0.004760\n",
            "epoch 46 iter 17: train loss 0.05543. lr 6.000000e-05: 100%|██████████| 18/18 [00:04<00:00,  4.17it/s]\n",
            "12/09/2021 23:30:09 - INFO - minGPT.mingpt.trainer -   test loss: 0.004566\n",
            "epoch 47 iter 17: train loss 0.04590. lr 6.000000e-05: 100%|██████████| 18/18 [00:04<00:00,  4.08it/s]\n",
            "12/09/2021 23:30:13 - INFO - minGPT.mingpt.trainer -   test loss: 0.004019\n",
            "epoch 48 iter 17: train loss 0.05274. lr 6.000000e-05: 100%|██████████| 18/18 [00:04<00:00,  4.15it/s]\n",
            "12/09/2021 23:30:18 - INFO - minGPT.mingpt.trainer -   test loss: 0.004048\n",
            "epoch 49 iter 17: train loss 0.07993. lr 6.000000e-05: 100%|██████████| 18/18 [00:04<00:00,  4.02it/s]\n",
            "12/09/2021 23:30:23 - INFO - minGPT.mingpt.trainer -   test loss: 0.004094\n",
            "epoch 50 iter 17: train loss 0.05187. lr 6.000000e-05: 100%|██████████| 18/18 [00:04<00:00,  4.00it/s]\n",
            "12/09/2021 23:30:28 - INFO - minGPT.mingpt.trainer -   test loss: 0.003703\n"
          ]
        }
      ],
      "source": [
        "from minGPT.mingpt.trainer import Trainer, TrainerConfig\n",
        "\n",
        "# initialize a trainer instance and kick off training\n",
        "tconf = TrainerConfig(max_epochs=50, batch_size=512, learning_rate=6e-4,\n",
        "                      lr_decay=True, warmup_tokens=1024, final_tokens=50*len(train_dataset)*(ndigit+1),\n",
        "                      num_workers=4)\n",
        "trainer = Trainer(model, train_dataset, test_dataset, tconf)\n",
        "trainer.train()"
      ]
    },
    {
      "cell_type": "code",
      "execution_count": 14,
      "metadata": {
        "id": "YAU7QxSZfi1i"
      },
      "outputs": [],
      "source": [
        "# now let's give the trained model an addition exam\n",
        "from torch.utils.data.dataloader import DataLoader\n",
        "from minGPT.mingpt.utils import sample\n",
        "\n",
        "def give_exam(dataset, batch_size=32, max_batches=-1):\n",
        "    \n",
        "    results = []\n",
        "    loader = DataLoader(dataset, batch_size=batch_size)\n",
        "    for b, (x, y) in enumerate(loader):\n",
        "        x = x.to(trainer.device)\n",
        "        d1d2 = x[:, :ndigit*2]\n",
        "        d1d2d3 = sample(model, d1d2, ndigit+1)\n",
        "        d3 = d1d2d3[:, -(ndigit+1):]\n",
        "        factors = torch.tensor([[10**i for i in range(ndigit+1)][::-1]]).to(trainer.device)\n",
        "        # decode the integers from individual digits\n",
        "        d1i = (d1d2[:,:ndigit] * factors[:,1:]).sum(1)\n",
        "        d2i = (d1d2[:,ndigit:ndigit*2] * factors[:,1:]).sum(1)\n",
        "        d3i_pred = (d3 * factors).sum(1)\n",
        "        d3i_gt = d1i + d2i\n",
        "        correct = (d3i_pred == d3i_gt).cpu() # Software 1.0 vs. Software 2.0 fight RIGHT on this line, lol\n",
        "        for i in range(x.size(0)):\n",
        "            results.append(int(correct[i]))\n",
        "            judge = 'YEP!!!' if correct[i] else 'NOPE'\n",
        "            if not correct[i]:\n",
        "                print(\"GPT claims that %03d + %03d = %03d (gt is %03d; %s)\" \n",
        "                      % (d1i[i], d2i[i], d3i_pred[i], d3i_gt[i], judge))\n",
        "        \n",
        "        if max_batches >= 0 and b+1 >= max_batches:\n",
        "            break\n",
        "\n",
        "    print(\"final score: %d/%d = %.2f%% correct\" % (np.sum(results), len(results), 100*np.mean(results)))"
      ]
    },
    {
      "cell_type": "code",
      "execution_count": 15,
      "metadata": {
        "scrolled": true,
        "id": "nF-mwaqLfi1j",
        "outputId": "d212d1e3-1759-4828-fba1-159e56f3b6a9",
        "colab": {
          "base_uri": "https://localhost:8080/"
        }
      },
      "outputs": [
        {
          "output_type": "stream",
          "name": "stdout",
          "text": [
            "final score: 9000/9000 = 100.00% correct\n"
          ]
        }
      ],
      "source": [
        "# training set: how well did we memorize?\n",
        "give_exam(train_dataset, batch_size=1024, max_batches=10)"
      ]
    },
    {
      "cell_type": "code",
      "execution_count": 16,
      "metadata": {
        "id": "kHR_ZJCAfi1k",
        "outputId": "e2a12550-6342-4dae-eb18-c6d2318680f2",
        "colab": {
          "base_uri": "https://localhost:8080/"
        }
      },
      "outputs": [
        {
          "output_type": "stream",
          "name": "stdout",
          "text": [
            "final score: 1000/1000 = 100.00% correct\n"
          ]
        }
      ],
      "source": [
        "# test set: how well did we generalize?\n",
        "give_exam(test_dataset, batch_size=1024, max_batches=-1)"
      ]
    },
    {
      "cell_type": "code",
      "execution_count": null,
      "metadata": {
        "id": "o21neMIdfi1k"
      },
      "outputs": [],
      "source": [
        "# well that's amusing... our model learned everything except 55 + 45"
      ]
    }
  ],
  "metadata": {
    "kernelspec": {
      "display_name": "Python 3",
      "language": "python",
      "name": "python3"
    },
    "language_info": {
      "codemirror_mode": {
        "name": "ipython",
        "version": 3
      },
      "file_extension": ".py",
      "mimetype": "text/x-python",
      "name": "python",
      "nbconvert_exporter": "python",
      "pygments_lexer": "ipython3",
      "version": "3.8.5"
    },
    "colab": {
      "name": "play_math.ipynb",
      "provenance": []
    }
  },
  "nbformat": 4,
  "nbformat_minor": 0
}
